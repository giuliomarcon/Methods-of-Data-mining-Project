{
 "cells": [
  {
   "cell_type": "markdown",
   "metadata": {},
   "source": [
    "# Data Mining Project"
   ]
  },
  {
   "cell_type": "markdown",
   "metadata": {},
   "source": [
    "#### load packages"
   ]
  },
  {
   "cell_type": "code",
   "execution_count": 2,
   "metadata": {},
   "outputs": [],
   "source": [
    "import pandas as pd\n",
    "import numpy as np\n",
    "import matplotlib.pyplot as plt\n",
    "plt.rcParams[\"figure.figsize\"] = (20,10)"
   ]
  },
  {
   "cell_type": "markdown",
   "metadata": {},
   "source": [
    "#### load data"
   ]
  },
  {
   "cell_type": "code",
   "execution_count": 3,
   "metadata": {
    "scrolled": true
   },
   "outputs": [
    {
     "output_type": "execute_result",
     "data": {
      "text/plain": [
       "    class      f1       f2       f3       f4       f5      f6      f7      f8  \\\n",
       "id                                                                              \n",
       "1       5  2.3383  10.5440  11.4653  10.4441  10.6311  7.7036  9.6444  7.8501   \n",
       "2       4  3.9151   9.5815  10.3992   9.8333   8.9781  7.0265  9.2761  7.3903   \n",
       "3       5  2.9322   9.3102  11.0756   9.8490   9.4291  8.0618  8.3874  7.9274   \n",
       "4       5  3.9470   8.5315  10.9836   9.3676   9.6856  7.5842  8.5774  8.3737   \n",
       "5       1  4.4618   9.1392  10.9183  10.0490   9.8290  6.5658  9.8122  9.0646   \n",
       "\n",
       "         f9  ...    f6991    f6992   f6993   f6994    f6995    f6996    f6997  \\\n",
       "id           ...                                                                \n",
       "1    7.7853  ...  11.9394  11.1349  5.7066  8.2176   9.9062   9.0815  10.5098   \n",
       "2    8.2744  ...  11.6547   7.7178  9.3558  7.5026  10.2106   8.9278  10.2466   \n",
       "3   10.0544  ...  11.9372  11.2369  6.5860  9.1668  10.3315   9.7551  11.4392   \n",
       "4    9.0443  ...  13.2541  11.8221  9.5261  7.4231  11.2862   9.8992  10.4067   \n",
       "5    8.3383  ...  11.6416  11.5142  6.5539  7.8319  11.0100  10.1013  11.2682   \n",
       "\n",
       "      f6998   f6999   f7000  \n",
       "id                           \n",
       "1   11.8648  8.4341  6.7618  \n",
       "2   11.3329  7.8209  7.4350  \n",
       "3   10.7036  8.0041  8.5380  \n",
       "4   11.9044  7.9843  8.5370  \n",
       "5   10.8969  8.1959  8.2906  \n",
       "\n",
       "[5 rows x 7001 columns]"
      ],
      "text/html": "<div>\n<style scoped>\n    .dataframe tbody tr th:only-of-type {\n        vertical-align: middle;\n    }\n\n    .dataframe tbody tr th {\n        vertical-align: top;\n    }\n\n    .dataframe thead th {\n        text-align: right;\n    }\n</style>\n<table border=\"1\" class=\"dataframe\">\n  <thead>\n    <tr style=\"text-align: right;\">\n      <th></th>\n      <th>class</th>\n      <th>f1</th>\n      <th>f2</th>\n      <th>f3</th>\n      <th>f4</th>\n      <th>f5</th>\n      <th>f6</th>\n      <th>f7</th>\n      <th>f8</th>\n      <th>f9</th>\n      <th>...</th>\n      <th>f6991</th>\n      <th>f6992</th>\n      <th>f6993</th>\n      <th>f6994</th>\n      <th>f6995</th>\n      <th>f6996</th>\n      <th>f6997</th>\n      <th>f6998</th>\n      <th>f6999</th>\n      <th>f7000</th>\n    </tr>\n    <tr>\n      <th>id</th>\n      <th></th>\n      <th></th>\n      <th></th>\n      <th></th>\n      <th></th>\n      <th></th>\n      <th></th>\n      <th></th>\n      <th></th>\n      <th></th>\n      <th></th>\n      <th></th>\n      <th></th>\n      <th></th>\n      <th></th>\n      <th></th>\n      <th></th>\n      <th></th>\n      <th></th>\n      <th></th>\n      <th></th>\n    </tr>\n  </thead>\n  <tbody>\n    <tr>\n      <th>1</th>\n      <td>5</td>\n      <td>2.3383</td>\n      <td>10.5440</td>\n      <td>11.4653</td>\n      <td>10.4441</td>\n      <td>10.6311</td>\n      <td>7.7036</td>\n      <td>9.6444</td>\n      <td>7.8501</td>\n      <td>7.7853</td>\n      <td>...</td>\n      <td>11.9394</td>\n      <td>11.1349</td>\n      <td>5.7066</td>\n      <td>8.2176</td>\n      <td>9.9062</td>\n      <td>9.0815</td>\n      <td>10.5098</td>\n      <td>11.8648</td>\n      <td>8.4341</td>\n      <td>6.7618</td>\n    </tr>\n    <tr>\n      <th>2</th>\n      <td>4</td>\n      <td>3.9151</td>\n      <td>9.5815</td>\n      <td>10.3992</td>\n      <td>9.8333</td>\n      <td>8.9781</td>\n      <td>7.0265</td>\n      <td>9.2761</td>\n      <td>7.3903</td>\n      <td>8.2744</td>\n      <td>...</td>\n      <td>11.6547</td>\n      <td>7.7178</td>\n      <td>9.3558</td>\n      <td>7.5026</td>\n      <td>10.2106</td>\n      <td>8.9278</td>\n      <td>10.2466</td>\n      <td>11.3329</td>\n      <td>7.8209</td>\n      <td>7.4350</td>\n    </tr>\n    <tr>\n      <th>3</th>\n      <td>5</td>\n      <td>2.9322</td>\n      <td>9.3102</td>\n      <td>11.0756</td>\n      <td>9.8490</td>\n      <td>9.4291</td>\n      <td>8.0618</td>\n      <td>8.3874</td>\n      <td>7.9274</td>\n      <td>10.0544</td>\n      <td>...</td>\n      <td>11.9372</td>\n      <td>11.2369</td>\n      <td>6.5860</td>\n      <td>9.1668</td>\n      <td>10.3315</td>\n      <td>9.7551</td>\n      <td>11.4392</td>\n      <td>10.7036</td>\n      <td>8.0041</td>\n      <td>8.5380</td>\n    </tr>\n    <tr>\n      <th>4</th>\n      <td>5</td>\n      <td>3.9470</td>\n      <td>8.5315</td>\n      <td>10.9836</td>\n      <td>9.3676</td>\n      <td>9.6856</td>\n      <td>7.5842</td>\n      <td>8.5774</td>\n      <td>8.3737</td>\n      <td>9.0443</td>\n      <td>...</td>\n      <td>13.2541</td>\n      <td>11.8221</td>\n      <td>9.5261</td>\n      <td>7.4231</td>\n      <td>11.2862</td>\n      <td>9.8992</td>\n      <td>10.4067</td>\n      <td>11.9044</td>\n      <td>7.9843</td>\n      <td>8.5370</td>\n    </tr>\n    <tr>\n      <th>5</th>\n      <td>1</td>\n      <td>4.4618</td>\n      <td>9.1392</td>\n      <td>10.9183</td>\n      <td>10.0490</td>\n      <td>9.8290</td>\n      <td>6.5658</td>\n      <td>9.8122</td>\n      <td>9.0646</td>\n      <td>8.3383</td>\n      <td>...</td>\n      <td>11.6416</td>\n      <td>11.5142</td>\n      <td>6.5539</td>\n      <td>7.8319</td>\n      <td>11.0100</td>\n      <td>10.1013</td>\n      <td>11.2682</td>\n      <td>10.8969</td>\n      <td>8.1959</td>\n      <td>8.2906</td>\n    </tr>\n  </tbody>\n</table>\n<p>5 rows × 7001 columns</p>\n</div>"
     },
     "metadata": {},
     "execution_count": 3
    }
   ],
   "source": [
    "gene_df = pd.read_csv('genedata.csv', index_col = 0)\n",
    "gene_df.head()"
   ]
  },
  {
   "cell_type": "markdown",
   "metadata": {},
   "source": [
    "#### check for missing values"
   ]
  },
  {
   "cell_type": "code",
   "execution_count": 4,
   "metadata": {
    "scrolled": true
   },
   "outputs": [
    {
     "output_type": "stream",
     "name": "stdout",
     "text": [
      "gene dataframe has 0 columns with missing values.\n"
     ]
    }
   ],
   "source": [
    "gene_cols_with_missing = [col for col in gene_df.columns if gene_df[col].isnull().any()]\n",
    "\n",
    "print(\"gene dataframe has \"+str(len(gene_cols_with_missing))+\" columns with missing values.\")"
   ]
  },
  {
   "cell_type": "markdown",
   "metadata": {},
   "source": [
    "It seems that there are no missing values."
   ]
  },
  {
   "cell_type": "markdown",
   "metadata": {},
   "source": [
    "#### Save labels in seperate array"
   ]
  },
  {
   "cell_type": "code",
   "execution_count": 5,
   "metadata": {},
   "outputs": [
    {
     "output_type": "stream",
     "name": "stdout",
     "text": [
      "7001\n"
     ]
    }
   ],
   "source": [
    "#print(gene_df['class'])\n",
    "print(len(gene_df.columns))\n",
    "if len(gene_df.columns) == 7001:\n",
    "    true_labels = gene_df['class']\n",
    "    gene_df = gene_df.drop('class',axis=1)\n",
    "\n",
    "gene = gene_df.to_numpy()\n",
    "gene = gene.astype(np.float)\n",
    "#print(gene_labels)"
   ]
  },
  {
   "cell_type": "markdown",
   "metadata": {},
   "source": [
    "## Gene dataset"
   ]
  },
  {
   "cell_type": "markdown",
   "metadata": {},
   "source": [
    "### Processing"
   ]
  },
  {
   "cell_type": "code",
   "execution_count": 6,
   "metadata": {},
   "outputs": [],
   "source": [
    "from sklearn.preprocessing import StandardScaler\n",
    "from sklearn.preprocessing import MaxAbsScaler\n",
    "from sklearn.decomposition import PCA\n",
    "from sklearn.metrics.pairwise import cosine_similarity\n",
    "from sklearn.metrics.pairwise import euclidean_distances\n",
    "from sklearn.neighbors import DistanceMetric"
   ]
  },
  {
   "cell_type": "code",
   "execution_count": 7,
   "metadata": {},
   "outputs": [],
   "source": [
    "gene_std = StandardScaler().fit_transform(gene)"
   ]
  },
  {
   "cell_type": "code",
   "execution_count": 8,
   "metadata": {},
   "outputs": [],
   "source": [
    "gene_mas = MaxAbsScaler().fit_transform(gene)"
   ]
  },
  {
   "cell_type": "code",
   "execution_count": 9,
   "metadata": {},
   "outputs": [],
   "source": [
    "gene_cs = cosine_similarity(gene)\n",
    "gene_cs_std = cosine_similarity(gene_std)\n",
    "gene_cs_mas = cosine_similarity(gene_mas)"
   ]
  },
  {
   "cell_type": "code",
   "execution_count": 10,
   "metadata": {},
   "outputs": [],
   "source": [
    "def euclidean_similarity(data):\n",
    "    return 1/(1+euclidean_distances(data, data))"
   ]
  },
  {
   "cell_type": "code",
   "execution_count": 11,
   "metadata": {},
   "outputs": [],
   "source": [
    "gene_ed = euclidean_similarity(gene)\n",
    "gene_ed_std = euclidean_similarity(gene_std)\n",
    "gene_ed_mas = euclidean_similarity(gene_mas)"
   ]
  },
  {
   "cell_type": "markdown",
   "metadata": {},
   "source": [
    "## Clustering"
   ]
  },
  {
   "cell_type": "code",
   "execution_count": 14,
   "metadata": {},
   "outputs": [],
   "source": [
    "from sklearn.cluster import KMeans\n",
    "from sklearn.metrics.cluster import normalized_mutual_info_score\n",
    "from sklearn.cluster import SpectralClustering\n",
    "from sklearn.cluster import AgglomerativeClustering\n",
    "\n",
    "def get_nmi(labels1,labels2):\n",
    "    return normalized_mutual_info_score(labels1,labels2,average_method='geometric')"
   ]
  },
  {
   "cell_type": "markdown",
   "metadata": {},
   "source": [
    "### K-means"
   ]
  },
  {
   "cell_type": "code",
   "execution_count": 15,
   "metadata": {},
   "outputs": [],
   "source": [
    "def perform_KMeans(data):\n",
    "    kmeans_list = []\n",
    "    for i in range(1,9):\n",
    "        kmeans = KMeans(n_clusters=i).fit(data)\n",
    "        labels = kmeans.labels_\n",
    "        kmeans_list.append((i,get_nmi(true_labels,labels),labels))\n",
    "    sorted_kmeans_list = sorted(kmeans_list, key=lambda x:x[1], reverse=True)\n",
    "    return sorted_kmeans_list"
   ]
  },
  {
   "cell_type": "code",
   "execution_count": 16,
   "metadata": {},
   "outputs": [],
   "source": [
    "kmeans_0 = perform_KMeans(gene)\n",
    "kmeans_ss = perform_KMeans(gene_std)\n",
    "kmeans_mas = perform_KMeans(gene_mas)"
   ]
  },
  {
   "cell_type": "markdown",
   "metadata": {},
   "source": [
    "It seems that 4-8 clusters is optimal, let's see if we can find a better clustering by chance:"
   ]
  },
  {
   "cell_type": "code",
   "execution_count": 17,
   "metadata": {
    "scrolled": true
   },
   "outputs": [
    {
     "output_type": "stream",
     "name": "stdout",
     "text": [
      "0\n(1, 2.625)\n(1, 2.625)\n(1, 2.625)\n1\n(6, 0.8824258875040402)\n(5, 0.788158868791317)\n(5, 0.8446159380386106)\n2\n(7, 0.8586095137185736)\n(7, 0.7847710683634179)\n(7, 0.837214360827197)\n"
     ]
    }
   ],
   "source": [
    "for i in range(3):\n",
    "    print(i)\n",
    "    print(kmeans_0[i][0:2])\n",
    "    print(kmeans_ss[i][0:2])\n",
    "    print(kmeans_mas[i][0:2])"
   ]
  },
  {
   "cell_type": "markdown",
   "metadata": {},
   "source": [
    "### Hierarchical = garbage"
   ]
  },
  {
   "cell_type": "code",
   "execution_count": 18,
   "metadata": {},
   "outputs": [],
   "source": [
    "def perform_hierarchical(data,linkage):\n",
    "    hier_list = []\n",
    "    for i in range(1,9):\n",
    "        hier = AgglomerativeClustering(n_clusters=i,linkage=linkage).fit(data)\n",
    "        labels = hier.labels_\n",
    "        hier_list.append((i,get_nmi(true_labels,labels),labels))\n",
    "    sorted_hier_list = sorted(hier_list, key=lambda x:x[1], reverse=True)\n",
    "    return sorted_hier_list  "
   ]
  },
  {
   "cell_type": "code",
   "execution_count": 19,
   "metadata": {},
   "outputs": [
    {
     "output_type": "stream",
     "name": "stdout",
     "text": [
      "ward\n",
      "complete\n",
      "average\n",
      "single\n"
     ]
    }
   ],
   "source": [
    "linkages = ['ward','complete','average','single']\n",
    "hier_0 = []\n",
    "hier_ss = []\n",
    "hier_mas = []\n",
    "for linkage in linkages:\n",
    "    print(linkage)\n",
    "    hier_0.append((linkage,perform_hierarchical(gene,linkage)))\n",
    "    hier_ss.append((linkage,perform_hierarchical(gene_std,linkage)))\n",
    "    hier_mas.append((linkage,perform_hierarchical(gene_mas,linkage)))"
   ]
  },
  {
   "cell_type": "code",
   "execution_count": 20,
   "metadata": {},
   "outputs": [
    {
     "output_type": "stream",
     "name": "stdout",
     "text": [
      "============================================\nward\n0\n(1, 2.625)\n(6, 0.9179157442581702)\n(7, 0.8878777908498132)\nss\n(1, 2.625)\n(7, 0.8378882021311446)\n(8, 0.8282447174039829)\nmas\n(1, 2.625)\n(7, 0.88845314017232)\n(6, 0.8512060961094837)\n============================================\ncomplete\n0\n(1, 2.625)\n(8, 0.6100507558366003)\n(7, 0.6003261469427305)\nss\n(1, 2.625)\n(8, 0.5083856029139342)\n(7, 0.49403066238187526)\nmas\n(1, 2.625)\n(8, 0.6181491399834758)\n(7, 0.5279598097586954)\n============================================\naverage\n0\n(1, 2.625)\n(8, 0.046350697557658097)\n(7, 0.04604423405299482)\nss\n(1, 2.625)\n(8, 0.0765473397628901)\n(7, 0.07449474820534495)\nmas\n(1, 2.625)\n(8, 0.0493062446937199)\n(7, 0.04404218670429313)\n============================================\nsingle\n0\n(1, 2.625)\n(8, 0.03600217293124191)\n(7, 0.03468494456958169)\nss\n(1, 2.625)\n(8, 0.03600217293124191)\n(7, 0.03155397027375823)\nmas\n(1, 2.625)\n(8, 0.03600217293124191)\n(7, 0.031643766137050604)\n"
     ]
    }
   ],
   "source": [
    "for i in range(4):\n",
    "    print(\"============================================\")\n",
    "    print(linkages[i])\n",
    "    print(\"0\")\n",
    "    for j in range(3):\n",
    "        print(hier_0[i][1][j][0:2])\n",
    "    print(\"ss\")\n",
    "    for j in range(3):\n",
    "        print(hier_ss[i][1][j][0:2])\n",
    "    print(\"mas\")\n",
    "    for j in range(3):\n",
    "        print(hier_mas[i][1][j][0:2])"
   ]
  },
  {
   "cell_type": "markdown",
   "metadata": {},
   "source": [
    "### Spectral = garbage"
   ]
  },
  {
   "cell_type": "markdown",
   "metadata": {},
   "source": [
    "nearest neighbour "
   ]
  },
  {
   "cell_type": "code",
   "execution_count": 21,
   "metadata": {},
   "outputs": [],
   "source": [
    "def perform_spectral_nn(data):\n",
    "    spectral_list = []\n",
    "    for nc in range(2,8):\n",
    "        for nn in range(5,9,2):\n",
    "            spectral = SpectralClustering(n_clusters=nc, affinity='nearest_neighbors',n_neighbors=nn,n_jobs=3).fit(data)\n",
    "            labels = spectral.labels_\n",
    "            spectral_list.append((nc,nn,get_nmi(true_labels,labels),labels))\n",
    "    sorted_spectral_list = sorted(spectral_list, key=lambda x:x[2], reverse=True)\n",
    "    return sorted_spectral_list "
   ]
  },
  {
   "cell_type": "code",
   "execution_count": 22,
   "metadata": {},
   "outputs": [],
   "source": [
    "spectral_0 = perform_spectral_nn(gene)\n",
    "spectral_ss = perform_spectral_nn(gene_std)\n",
    "spectral_mas = perform_spectral_nn(gene_mas)"
   ]
  },
  {
   "cell_type": "code",
   "execution_count": 23,
   "metadata": {},
   "outputs": [
    {
     "output_type": "stream",
     "name": "stdout",
     "text": [
      "0\n(5, 5, 0.9847702095491678)\n(5, 7, 0.9762785050842379)\n(6, 5, 0.9372444167772979)\nss\n(5, 7, 0.9665000951941088)\n(5, 5, 0.9485802550113134)\n(6, 7, 0.9247786084922212)\nmas\n(5, 7, 0.9774353402417695)\n(5, 5, 0.9759616118626921)\n(6, 5, 0.9323883209786678)\n"
     ]
    }
   ],
   "source": [
    "print(\"0\")\n",
    "for i in range(3):\n",
    "    print(spectral_0[i][0:3])\n",
    "\n",
    "print(\"ss\")\n",
    "for i in range(3):\n",
    "    print(spectral_ss[i][0:3])\n",
    "\n",
    "print(\"mas\")\n",
    "for i in range(3):\n",
    "    print(spectral_mas[i][0:3])"
   ]
  },
  {
   "cell_type": "markdown",
   "metadata": {},
   "source": [
    "RBF"
   ]
  },
  {
   "cell_type": "code",
   "execution_count": 24,
   "metadata": {},
   "outputs": [],
   "source": [
    "def perform_spectral_rbf(data):\n",
    "    spectral_list = []\n",
    "    for nc in range(2,8):\n",
    "        spectral = SpectralClustering(n_clusters=nc, affinity='rbf',n_jobs=3).fit(data)\n",
    "        labels = spectral.labels_\n",
    "        spectral_list.append((nc,get_nmi(true_labels,labels),labels))\n",
    "    sorted_spectral_list = sorted(spectral_list, key=lambda x:x[1], reverse=True)\n",
    "    return sorted_spectral_list "
   ]
  },
  {
   "cell_type": "code",
   "execution_count": 25,
   "metadata": {},
   "outputs": [],
   "source": [
    "spectral_rbf_0 = perform_spectral_rbf(gene)\n",
    "spectral_rbf_ss = perform_spectral_rbf(gene_std)\n",
    "spectral_rbf_mas = perform_spectral_rbf(gene_mas)"
   ]
  },
  {
   "cell_type": "code",
   "execution_count": 26,
   "metadata": {},
   "outputs": [
    {
     "output_type": "stream",
     "name": "stdout",
     "text": [
      "0\n(6, 0.015463222435514722)\n(7, 0.010027876006086229)\n(5, 0.008843401879973015)\nss\n(7, 0.007491396037058029)\n(6, 0.006744086073076299)\n(2, 0.006721349129332039)\nmas\n(7, 0.031643766137050604)\n(6, 0.03005573358925145)\n(5, 0.028462663673074918)\n"
     ]
    }
   ],
   "source": [
    "print(\"0\")\n",
    "for i in range(3):\n",
    "    print(spectral_rbf_0[i][0:2])\n",
    "\n",
    "print(\"ss\")\n",
    "for i in range(3):\n",
    "    print(spectral_rbf_ss[i][0:2])\n",
    "\n",
    "print(\"mas\") \n",
    "for i in range(3):\n",
    "    print(spectral_rbf_mas[i][0:2])"
   ]
  },
  {
   "cell_type": "markdown",
   "metadata": {},
   "source": [
    "Precomputed"
   ]
  },
  {
   "cell_type": "code",
   "execution_count": 27,
   "metadata": {},
   "outputs": [],
   "source": [
    "def perform_spectral_pc(data):\n",
    "    spectral_list = []\n",
    "    for nc in range(2,8):\n",
    "        spectral = SpectralClustering(n_clusters=nc, affinity='precomputed',n_jobs=3).fit(data)\n",
    "        labels = spectral.labels_\n",
    "        spectral_list.append((nc,get_nmi(true_labels,labels),labels))\n",
    "    sorted_spectral_list = sorted(spectral_list, key=lambda x:x[1], reverse=True)\n",
    "    return sorted_spectral_list "
   ]
  },
  {
   "cell_type": "code",
   "execution_count": 28,
   "metadata": {},
   "outputs": [],
   "source": [
    "spectral_pc_cs = perform_spectral_pc(gene_cs)\n",
    "#spectral_pc_cs_ss = perform_spectral_pc(ms_cs_ss)\n",
    "spectral_pc_cs_mas = perform_spectral_pc(gene_cs_mas)\n",
    "spectral_pc_ed = perform_spectral_pc(gene_ed)\n",
    "spectral_pc_ed_ss = perform_spectral_pc(gene_ed_std)\n",
    "spectral_pc_ed_mas = perform_spectral_pc(gene_ed_mas)"
   ]
  },
  {
   "cell_type": "code",
   "execution_count": 29,
   "metadata": {},
   "outputs": [
    {
     "output_type": "stream",
     "name": "stdout",
     "text": [
      "cs 0\n(6, 0.7762300398086431)\n(6, 0.7762300398086431)\n(6, 0.7762300398086431)\ncs mas\n(6, 0.7574254553108777)\n(6, 0.7574254553108777)\n(6, 0.7574254553108777)\ned 0\n(5, 0.8001183745485337)\n(5, 0.8001183745485337)\n(5, 0.8001183745485337)\ned ss\n(7, 0.6660144100221334)\n(7, 0.6660144100221334)\n(7, 0.6660144100221334)\ned mas\n(5, 0.7576765658439144)\n(5, 0.7576765658439144)\n(5, 0.7576765658439144)\n"
     ]
    }
   ],
   "source": [
    "print(\"cs 0\")\n",
    "for i in range(3):\n",
    "    print(spectral_pc_cs[0][0:2])\n",
    "#print(spectral_pc_cs_ss[0][0:2])\n",
    "print(\"cs mas\")\n",
    "for i in range(3):\n",
    "    print(spectral_pc_cs_mas[0][0:2])\n",
    "print(\"ed 0\")\n",
    "for i in range(3):\n",
    "    print(spectral_pc_ed[0][0:2])\n",
    "print(\"ed ss\")\n",
    "for i in range(3):\n",
    "    print(spectral_pc_ed_ss[0][0:2])\n",
    "print(\"ed mas\")\n",
    "for i in range(3):\n",
    "    print(spectral_pc_ed_mas[0][0:2])"
   ]
  }
 ],
 "metadata": {
  "kernelspec": {
   "display_name": "Python 3",
   "language": "python",
   "name": "python3"
  },
  "language_info": {
   "codemirror_mode": {
    "name": "ipython",
    "version": 3
   },
   "file_extension": ".py",
   "mimetype": "text/x-python",
   "name": "python",
   "nbconvert_exporter": "python",
   "pygments_lexer": "ipython3",
   "version": "3.8.5-final"
  }
 },
 "nbformat": 4,
 "nbformat_minor": 4
}