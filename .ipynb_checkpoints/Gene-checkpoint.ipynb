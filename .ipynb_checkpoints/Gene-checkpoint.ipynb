{
 "cells": [
  {
   "cell_type": "markdown",
   "metadata": {},
   "source": [
    "# Data Mining Project"
   ]
  },
  {
   "cell_type": "markdown",
   "metadata": {},
   "source": [
    "Sean Deloddere - 914691 <br>\n",
    "Giulio"
   ]
  },
  {
   "cell_type": "markdown",
   "metadata": {},
   "source": [
    "#### load packages"
   ]
  },
  {
   "cell_type": "code",
   "execution_count": 46,
   "metadata": {},
   "outputs": [],
   "source": [
    "import pandas as pd\n",
    "import numpy as np\n",
    "import matplotlib.pyplot as plt\n",
    "plt.rcParams[\"figure.figsize\"] = (20,10)"
   ]
  },
  {
   "cell_type": "markdown",
   "metadata": {},
   "source": [
    "#### load data"
   ]
  },
  {
   "cell_type": "code",
   "execution_count": 47,
   "metadata": {
    "scrolled": true
   },
   "outputs": [
    {
     "data": {
      "text/html": [
       "<div>\n",
       "<style scoped>\n",
       "    .dataframe tbody tr th:only-of-type {\n",
       "        vertical-align: middle;\n",
       "    }\n",
       "\n",
       "    .dataframe tbody tr th {\n",
       "        vertical-align: top;\n",
       "    }\n",
       "\n",
       "    .dataframe thead th {\n",
       "        text-align: right;\n",
       "    }\n",
       "</style>\n",
       "<table border=\"1\" class=\"dataframe\">\n",
       "  <thead>\n",
       "    <tr style=\"text-align: right;\">\n",
       "      <th></th>\n",
       "      <th>class</th>\n",
       "      <th>f1</th>\n",
       "      <th>f2</th>\n",
       "      <th>f3</th>\n",
       "      <th>f4</th>\n",
       "      <th>f5</th>\n",
       "      <th>f6</th>\n",
       "      <th>f7</th>\n",
       "      <th>f8</th>\n",
       "      <th>f9</th>\n",
       "      <th>...</th>\n",
       "      <th>f6991</th>\n",
       "      <th>f6992</th>\n",
       "      <th>f6993</th>\n",
       "      <th>f6994</th>\n",
       "      <th>f6995</th>\n",
       "      <th>f6996</th>\n",
       "      <th>f6997</th>\n",
       "      <th>f6998</th>\n",
       "      <th>f6999</th>\n",
       "      <th>f7000</th>\n",
       "    </tr>\n",
       "    <tr>\n",
       "      <th>id</th>\n",
       "      <th></th>\n",
       "      <th></th>\n",
       "      <th></th>\n",
       "      <th></th>\n",
       "      <th></th>\n",
       "      <th></th>\n",
       "      <th></th>\n",
       "      <th></th>\n",
       "      <th></th>\n",
       "      <th></th>\n",
       "      <th></th>\n",
       "      <th></th>\n",
       "      <th></th>\n",
       "      <th></th>\n",
       "      <th></th>\n",
       "      <th></th>\n",
       "      <th></th>\n",
       "      <th></th>\n",
       "      <th></th>\n",
       "      <th></th>\n",
       "      <th></th>\n",
       "    </tr>\n",
       "  </thead>\n",
       "  <tbody>\n",
       "    <tr>\n",
       "      <th>1</th>\n",
       "      <td>5</td>\n",
       "      <td>2.3383</td>\n",
       "      <td>10.5440</td>\n",
       "      <td>11.4653</td>\n",
       "      <td>10.4441</td>\n",
       "      <td>10.6311</td>\n",
       "      <td>7.7036</td>\n",
       "      <td>9.6444</td>\n",
       "      <td>7.8501</td>\n",
       "      <td>7.7853</td>\n",
       "      <td>...</td>\n",
       "      <td>11.9394</td>\n",
       "      <td>11.1349</td>\n",
       "      <td>5.7066</td>\n",
       "      <td>8.2176</td>\n",
       "      <td>9.9062</td>\n",
       "      <td>9.0815</td>\n",
       "      <td>10.5098</td>\n",
       "      <td>11.8648</td>\n",
       "      <td>8.4341</td>\n",
       "      <td>6.7618</td>\n",
       "    </tr>\n",
       "    <tr>\n",
       "      <th>2</th>\n",
       "      <td>4</td>\n",
       "      <td>3.9151</td>\n",
       "      <td>9.5815</td>\n",
       "      <td>10.3992</td>\n",
       "      <td>9.8333</td>\n",
       "      <td>8.9781</td>\n",
       "      <td>7.0265</td>\n",
       "      <td>9.2761</td>\n",
       "      <td>7.3903</td>\n",
       "      <td>8.2744</td>\n",
       "      <td>...</td>\n",
       "      <td>11.6547</td>\n",
       "      <td>7.7178</td>\n",
       "      <td>9.3558</td>\n",
       "      <td>7.5026</td>\n",
       "      <td>10.2106</td>\n",
       "      <td>8.9278</td>\n",
       "      <td>10.2466</td>\n",
       "      <td>11.3329</td>\n",
       "      <td>7.8209</td>\n",
       "      <td>7.4350</td>\n",
       "    </tr>\n",
       "    <tr>\n",
       "      <th>3</th>\n",
       "      <td>5</td>\n",
       "      <td>2.9322</td>\n",
       "      <td>9.3102</td>\n",
       "      <td>11.0756</td>\n",
       "      <td>9.8490</td>\n",
       "      <td>9.4291</td>\n",
       "      <td>8.0618</td>\n",
       "      <td>8.3874</td>\n",
       "      <td>7.9274</td>\n",
       "      <td>10.0544</td>\n",
       "      <td>...</td>\n",
       "      <td>11.9372</td>\n",
       "      <td>11.2369</td>\n",
       "      <td>6.5860</td>\n",
       "      <td>9.1668</td>\n",
       "      <td>10.3315</td>\n",
       "      <td>9.7551</td>\n",
       "      <td>11.4392</td>\n",
       "      <td>10.7036</td>\n",
       "      <td>8.0041</td>\n",
       "      <td>8.5380</td>\n",
       "    </tr>\n",
       "    <tr>\n",
       "      <th>4</th>\n",
       "      <td>5</td>\n",
       "      <td>3.9470</td>\n",
       "      <td>8.5315</td>\n",
       "      <td>10.9836</td>\n",
       "      <td>9.3676</td>\n",
       "      <td>9.6856</td>\n",
       "      <td>7.5842</td>\n",
       "      <td>8.5774</td>\n",
       "      <td>8.3737</td>\n",
       "      <td>9.0443</td>\n",
       "      <td>...</td>\n",
       "      <td>13.2541</td>\n",
       "      <td>11.8221</td>\n",
       "      <td>9.5261</td>\n",
       "      <td>7.4231</td>\n",
       "      <td>11.2862</td>\n",
       "      <td>9.8992</td>\n",
       "      <td>10.4067</td>\n",
       "      <td>11.9044</td>\n",
       "      <td>7.9843</td>\n",
       "      <td>8.5370</td>\n",
       "    </tr>\n",
       "    <tr>\n",
       "      <th>5</th>\n",
       "      <td>1</td>\n",
       "      <td>4.4618</td>\n",
       "      <td>9.1392</td>\n",
       "      <td>10.9183</td>\n",
       "      <td>10.0490</td>\n",
       "      <td>9.8290</td>\n",
       "      <td>6.5658</td>\n",
       "      <td>9.8122</td>\n",
       "      <td>9.0646</td>\n",
       "      <td>8.3383</td>\n",
       "      <td>...</td>\n",
       "      <td>11.6416</td>\n",
       "      <td>11.5142</td>\n",
       "      <td>6.5539</td>\n",
       "      <td>7.8319</td>\n",
       "      <td>11.0100</td>\n",
       "      <td>10.1013</td>\n",
       "      <td>11.2682</td>\n",
       "      <td>10.8969</td>\n",
       "      <td>8.1959</td>\n",
       "      <td>8.2906</td>\n",
       "    </tr>\n",
       "  </tbody>\n",
       "</table>\n",
       "<p>5 rows × 7001 columns</p>\n",
       "</div>"
      ],
      "text/plain": [
       "    class      f1       f2       f3       f4       f5      f6      f7      f8  \\\n",
       "id                                                                              \n",
       "1       5  2.3383  10.5440  11.4653  10.4441  10.6311  7.7036  9.6444  7.8501   \n",
       "2       4  3.9151   9.5815  10.3992   9.8333   8.9781  7.0265  9.2761  7.3903   \n",
       "3       5  2.9322   9.3102  11.0756   9.8490   9.4291  8.0618  8.3874  7.9274   \n",
       "4       5  3.9470   8.5315  10.9836   9.3676   9.6856  7.5842  8.5774  8.3737   \n",
       "5       1  4.4618   9.1392  10.9183  10.0490   9.8290  6.5658  9.8122  9.0646   \n",
       "\n",
       "         f9  ...    f6991    f6992   f6993   f6994    f6995    f6996    f6997  \\\n",
       "id           ...                                                                \n",
       "1    7.7853  ...  11.9394  11.1349  5.7066  8.2176   9.9062   9.0815  10.5098   \n",
       "2    8.2744  ...  11.6547   7.7178  9.3558  7.5026  10.2106   8.9278  10.2466   \n",
       "3   10.0544  ...  11.9372  11.2369  6.5860  9.1668  10.3315   9.7551  11.4392   \n",
       "4    9.0443  ...  13.2541  11.8221  9.5261  7.4231  11.2862   9.8992  10.4067   \n",
       "5    8.3383  ...  11.6416  11.5142  6.5539  7.8319  11.0100  10.1013  11.2682   \n",
       "\n",
       "      f6998   f6999   f7000  \n",
       "id                           \n",
       "1   11.8648  8.4341  6.7618  \n",
       "2   11.3329  7.8209  7.4350  \n",
       "3   10.7036  8.0041  8.5380  \n",
       "4   11.9044  7.9843  8.5370  \n",
       "5   10.8969  8.1959  8.2906  \n",
       "\n",
       "[5 rows x 7001 columns]"
      ]
     },
     "execution_count": 47,
     "metadata": {},
     "output_type": "execute_result"
    }
   ],
   "source": [
    "gene_df = pd.read_csv('genedata.csv', index_col = 0)\n",
    "gene_df.head()"
   ]
  },
  {
   "cell_type": "markdown",
   "metadata": {},
   "source": [
    "#### check for missing values"
   ]
  },
  {
   "cell_type": "code",
   "execution_count": 48,
   "metadata": {
    "scrolled": true
   },
   "outputs": [
    {
     "name": "stdout",
     "output_type": "stream",
     "text": [
      "gene dataframe has 0 columns with missing values.\n"
     ]
    }
   ],
   "source": [
    "gene_cols_with_missing = [col for col in gene_df.columns if gene_df[col].isnull().any()]\n",
    "\n",
    "print(\"gene dataframe has \"+str(len(gene_cols_with_missing))+\" columns with missing values.\")"
   ]
  },
  {
   "cell_type": "markdown",
   "metadata": {},
   "source": [
    "It seems that there are no missing values."
   ]
  },
  {
   "cell_type": "markdown",
   "metadata": {},
   "source": [
    "#### Save labels in seperate array"
   ]
  },
  {
   "cell_type": "code",
   "execution_count": 49,
   "metadata": {},
   "outputs": [
    {
     "name": "stdout",
     "output_type": "stream",
     "text": [
      "7001\n"
     ]
    }
   ],
   "source": [
    "#print(gene_df['class'])\n",
    "print(len(gene_df.columns))\n",
    "if len(gene_df.columns) == 7001:\n",
    "    true_labels = gene_df['class']\n",
    "    gene_df = gene_df.drop('class',axis=1)\n",
    "\n",
    "gene = gene_df.to_numpy()\n",
    "gene = gene.astype(np.float)\n",
    "#print(gene_labels)"
   ]
  },
  {
   "cell_type": "markdown",
   "metadata": {},
   "source": [
    "## Gene dataset"
   ]
  },
  {
   "cell_type": "markdown",
   "metadata": {},
   "source": [
    "### Processing"
   ]
  },
  {
   "cell_type": "code",
   "execution_count": 50,
   "metadata": {},
   "outputs": [],
   "source": [
    "from sklearn.preprocessing import StandardScaler\n",
    "from sklearn.preprocessing import MaxAbsScaler\n",
    "from sklearn.decomposition import PCA\n",
    "from sklearn.metrics.pairwise import cosine_similarity\n",
    "from sklearn.metrics.pairwise import euclidean_distances\n",
    "from sklearn.neighbors import DistanceMetric"
   ]
  },
  {
   "cell_type": "code",
   "execution_count": 51,
   "metadata": {},
   "outputs": [],
   "source": [
    "gene_std = StandardScaler().fit_transform(gene)"
   ]
  },
  {
   "cell_type": "code",
   "execution_count": 52,
   "metadata": {},
   "outputs": [],
   "source": [
    "gene_mas = MaxAbsScaler().fit_transform(gene)"
   ]
  },
  {
   "cell_type": "code",
   "execution_count": 53,
   "metadata": {},
   "outputs": [],
   "source": [
    "gene_cs = cosine_similarity(gene)\n",
    "gene_cs_std = cosine_similarity(gene_std)\n",
    "gene_cs_mas = cosine_similarity(gene_mas)"
   ]
  },
  {
   "cell_type": "code",
   "execution_count": 54,
   "metadata": {},
   "outputs": [],
   "source": [
    "def euclidean_similarity(data):\n",
    "    return 1/(1+euclidean_distances(data, data))"
   ]
  },
  {
   "cell_type": "code",
   "execution_count": 55,
   "metadata": {},
   "outputs": [],
   "source": [
    "gene_ed = euclidean_similarity(gene)\n",
    "gene_ed_std = euclidean_similarity(gene_std)\n",
    "gene_ed_mas = euclidean_similarity(gene_mas)"
   ]
  },
  {
   "cell_type": "markdown",
   "metadata": {},
   "source": [
    "#### PCA"
   ]
  },
  {
   "cell_type": "code",
   "execution_count": 56,
   "metadata": {},
   "outputs": [],
   "source": [
    "from sklearn.decomposition import PCA\n",
    "#pca = PCA().fit(gene_df_std)\n",
    "#plt.plot(np.cumsum(pca.explained_variance_ratio_))\n",
    "#plt.xlim(0,800,1)\n",
    "#plt.xlabel('Number of components')\n",
    "#plt.ylabel('Cumulative explained variance')\n",
    "\n",
    "#first_x = pca.explained_variance_ratio_[0:250]\n",
    "#print(\"explained variance of first 250 pc's: \"+str(np.cumsum(first_x)[249]))\n",
    "\n",
    "#plt.title('cummulative sum of explained variance of principle components')\n",
    "#plt.show()"
   ]
  },
  {
   "cell_type": "code",
   "execution_count": 57,
   "metadata": {},
   "outputs": [],
   "source": [
    "#sklearn_pca = PCA()\n",
    "#Y_sklearn = sklearn_pca.fit_transform(gene_df_std)\n",
    "\n",
    "#plt.scatter(x=Y_sklearn[:,0],y=Y_sklearn[:,1],c=gene_labels)\n",
    "#plt.show()"
   ]
  },
  {
   "cell_type": "code",
   "execution_count": null,
   "metadata": {},
   "outputs": [],
   "source": []
  },
  {
   "cell_type": "code",
   "execution_count": null,
   "metadata": {},
   "outputs": [],
   "source": []
  },
  {
   "cell_type": "code",
   "execution_count": null,
   "metadata": {},
   "outputs": [],
   "source": []
  },
  {
   "cell_type": "code",
   "execution_count": null,
   "metadata": {},
   "outputs": [],
   "source": []
  },
  {
   "cell_type": "code",
   "execution_count": null,
   "metadata": {},
   "outputs": [],
   "source": []
  },
  {
   "cell_type": "markdown",
   "metadata": {},
   "source": [
    "## Clustering"
   ]
  },
  {
   "cell_type": "code",
   "execution_count": 58,
   "metadata": {},
   "outputs": [],
   "source": [
    "from sklearn.cluster import KMeans\n",
    "from sklearn.metrics.cluster import normalized_mutual_info_score\n",
    "from sklearn.cluster import SpectralClustering\n",
    "from sklearn.cluster import AgglomerativeClustering\n",
    "\n",
    "def get_nmi(labels1,labels2):\n",
    "    return normalized_mutual_info_score(labels1,labels2,average_method='geometric')"
   ]
  },
  {
   "cell_type": "markdown",
   "metadata": {},
   "source": [
    "### K-means"
   ]
  },
  {
   "cell_type": "code",
   "execution_count": 59,
   "metadata": {},
   "outputs": [],
   "source": [
    "def perform_KMeans(data):\n",
    "    kmeans_list = []\n",
    "    for i in range(1,9):\n",
    "        kmeans = KMeans(n_clusters=i).fit(data)\n",
    "        labels = kmeans.labels_\n",
    "        kmeans_list.append((i,get_nmi(true_labels,labels),labels))\n",
    "    sorted_kmeans_list = sorted(kmeans_list, key=lambda x:x[1], reverse=True)\n",
    "    return sorted_kmeans_list"
   ]
  },
  {
   "cell_type": "code",
   "execution_count": 60,
   "metadata": {},
   "outputs": [],
   "source": [
    "kmeans_0 = perform_KMeans(gene)\n",
    "kmeans_ss = perform_KMeans(gene_std)\n",
    "kmeans_mas = perform_KMeans(gene_mas)"
   ]
  },
  {
   "cell_type": "markdown",
   "metadata": {},
   "source": [
    "It seems that 4-8 clusters is optimal, let's see if we can find a better clustering by chance:"
   ]
  },
  {
   "cell_type": "code",
   "execution_count": 61,
   "metadata": {
    "scrolled": true
   },
   "outputs": [
    {
     "name": "stdout",
     "output_type": "stream",
     "text": [
      "0\n",
      "(1, 2.625)\n",
      "(1, 2.625)\n",
      "(1, 2.625)\n",
      "1\n",
      "(6, 0.8915845936117821)\n",
      "(5, 0.7978934393843511)\n",
      "(7, 0.8450941234796839)\n",
      "2\n",
      "(5, 0.8569187368299777)\n",
      "(7, 0.7957899405705345)\n",
      "(5, 0.8446159380386105)\n"
     ]
    }
   ],
   "source": [
    "for i in range(3):\n",
    "    print(i)\n",
    "    print(kmeans_0[i][0:2])\n",
    "    print(kmeans_ss[i][0:2])\n",
    "    print(kmeans_mas[i][0:2])"
   ]
  },
  {
   "cell_type": "code",
   "execution_count": null,
   "metadata": {},
   "outputs": [],
   "source": []
  },
  {
   "cell_type": "markdown",
   "metadata": {},
   "source": [
    "### Hierarchical = garbage"
   ]
  },
  {
   "cell_type": "code",
   "execution_count": 63,
   "metadata": {},
   "outputs": [],
   "source": [
    "def perform_hierarchical(data,linkage):\n",
    "    hier_list = []\n",
    "    for i in range(1,9):\n",
    "        hier = AgglomerativeClustering(n_clusters=i,linkage=linkage).fit(data)\n",
    "        labels = hier.labels_\n",
    "        hier_list.append((i,get_nmi(true_labels,labels),labels))\n",
    "    sorted_hier_list = sorted(hier_list, key=lambda x:x[1], reverse=True)\n",
    "    return sorted_hier_list  "
   ]
  },
  {
   "cell_type": "code",
   "execution_count": 65,
   "metadata": {},
   "outputs": [
    {
     "name": "stdout",
     "output_type": "stream",
     "text": [
      "ward\n",
      "complete\n",
      "average\n",
      "single\n"
     ]
    }
   ],
   "source": [
    "linkages = ['ward','complete','average','single']\n",
    "hier_0 = []\n",
    "hier_ss = []\n",
    "hier_mas = []\n",
    "for linkage in linkages:\n",
    "    print(linkage)\n",
    "    hier_0.append((linkage,perform_hierarchical(gene,linkage)))\n",
    "    hier_ss.append((linkage,perform_hierarchical(gene_std,linkage)))\n",
    "    hier_mas.append((linkage,perform_hierarchical(gene_mas,linkage)))"
   ]
  },
  {
   "cell_type": "code",
   "execution_count": 66,
   "metadata": {},
   "outputs": [
    {
     "name": "stdout",
     "output_type": "stream",
     "text": [
      "============================================\n",
      "ward\n",
      "0\n",
      "(1, 2.625)\n",
      "(6, 0.9179157442581702)\n",
      "(7, 0.8878777908498132)\n",
      "ss\n",
      "(1, 2.625)\n",
      "(7, 0.8378882021311446)\n",
      "(8, 0.8282447174039829)\n",
      "mas\n",
      "(1, 2.625)\n",
      "(7, 0.88845314017232)\n",
      "(6, 0.8512060961094837)\n",
      "============================================\n",
      "complete\n",
      "0\n",
      "(1, 2.625)\n",
      "(8, 0.6100507558366003)\n",
      "(7, 0.6003261469427305)\n",
      "ss\n",
      "(1, 2.625)\n",
      "(8, 0.5083856029139342)\n",
      "(7, 0.49403066238187526)\n",
      "mas\n",
      "(1, 2.625)\n",
      "(8, 0.6181491399834758)\n",
      "(7, 0.5279598097586954)\n",
      "============================================\n",
      "average\n",
      "0\n",
      "(1, 2.625)\n",
      "(8, 0.046350697557658097)\n",
      "(7, 0.04604423405299482)\n",
      "ss\n",
      "(1, 2.625)\n",
      "(8, 0.0765473397628901)\n",
      "(7, 0.07449474820534495)\n",
      "mas\n",
      "(1, 2.625)\n",
      "(8, 0.0493062446937199)\n",
      "(7, 0.04404218670429313)\n",
      "============================================\n",
      "single\n",
      "0\n",
      "(1, 2.625)\n",
      "(8, 0.03600217293124191)\n",
      "(7, 0.03468494456958169)\n",
      "ss\n",
      "(1, 2.625)\n",
      "(8, 0.03600217293124191)\n",
      "(7, 0.03155397027375823)\n",
      "mas\n",
      "(1, 2.625)\n",
      "(8, 0.03600217293124191)\n",
      "(7, 0.031643766137050604)\n"
     ]
    }
   ],
   "source": [
    "for i in range(4):\n",
    "    print(\"============================================\")\n",
    "    print(linkages[i])\n",
    "    print(\"0\")\n",
    "    for j in range(3):\n",
    "        print(hier_0[i][1][j][0:2])\n",
    "    print(\"ss\")\n",
    "    for j in range(3):\n",
    "        print(hier_ss[i][1][j][0:2])\n",
    "    print(\"mas\")\n",
    "    for j in range(3):\n",
    "        print(hier_mas[i][1][j][0:2])"
   ]
  },
  {
   "cell_type": "markdown",
   "metadata": {},
   "source": [
    "### Spectral = garbage"
   ]
  },
  {
   "cell_type": "markdown",
   "metadata": {},
   "source": [
    "nearest neighbour "
   ]
  },
  {
   "cell_type": "code",
   "execution_count": 67,
   "metadata": {},
   "outputs": [],
   "source": [
    "def perform_spectral_nn(data):\n",
    "    spectral_list = []\n",
    "    for nc in range(2,8):\n",
    "        for nn in range(5,9,2):\n",
    "            spectral = SpectralClustering(n_clusters=nc, affinity='nearest_neighbors',n_neighbors=nn,n_jobs=3).fit(data)\n",
    "            labels = spectral.labels_\n",
    "            spectral_list.append((nc,nn,get_nmi(true_labels,labels),labels))\n",
    "    sorted_spectral_list = sorted(spectral_list, key=lambda x:x[2], reverse=True)\n",
    "    return sorted_spectral_list "
   ]
  },
  {
   "cell_type": "code",
   "execution_count": 68,
   "metadata": {},
   "outputs": [],
   "source": [
    "spectral_0 = perform_spectral_nn(gene)\n",
    "spectral_ss = perform_spectral_nn(gene_std)\n",
    "spectral_mas = perform_spectral_nn(gene_mas)"
   ]
  },
  {
   "cell_type": "code",
   "execution_count": 69,
   "metadata": {},
   "outputs": [
    {
     "name": "stdout",
     "output_type": "stream",
     "text": [
      "0\n",
      "(5, 5, 0.9847702095491678)\n",
      "(5, 7, 0.9762785050842377)\n",
      "(6, 5, 0.9372444167772979)\n",
      "ss\n",
      "(5, 7, 0.9665000951941086)\n",
      "(5, 5, 0.9485802550113133)\n",
      "(6, 7, 0.924778608492221)\n",
      "mas\n",
      "(5, 7, 0.9774353402417695)\n",
      "(5, 5, 0.9759616118626923)\n",
      "(6, 5, 0.9323883209786678)\n"
     ]
    }
   ],
   "source": [
    "print(\"0\")\n",
    "for i in range(3):\n",
    "    print(spectral_0[i][0:3])\n",
    "\n",
    "print(\"ss\")\n",
    "for i in range(3):\n",
    "    print(spectral_ss[i][0:3])\n",
    "\n",
    "print(\"mas\")\n",
    "for i in range(3):\n",
    "    print(spectral_mas[i][0:3])"
   ]
  },
  {
   "cell_type": "markdown",
   "metadata": {},
   "source": [
    "RBF"
   ]
  },
  {
   "cell_type": "code",
   "execution_count": 70,
   "metadata": {},
   "outputs": [],
   "source": [
    "def perform_spectral_rbf(data):\n",
    "    spectral_list = []\n",
    "    for nc in range(2,8):\n",
    "        spectral = SpectralClustering(n_clusters=nc, affinity='rbf',n_jobs=3).fit(data)\n",
    "        labels = spectral.labels_\n",
    "        spectral_list.append((nc,get_nmi(true_labels,labels),labels))\n",
    "    sorted_spectral_list = sorted(spectral_list, key=lambda x:x[1], reverse=True)\n",
    "    return sorted_spectral_list "
   ]
  },
  {
   "cell_type": "code",
   "execution_count": 75,
   "metadata": {},
   "outputs": [
    {
     "name": "stderr",
     "output_type": "stream",
     "text": [
      "/Users/giuliomarcon/anaconda3/lib/python3.7/site-packages/sklearn/manifold/spectral_embedding_.py:235: UserWarning: Graph is not fully connected, spectral embedding may not work as expected.\n",
      "  warnings.warn(\"Graph is not fully connected, spectral embedding\"\n",
      "/Users/giuliomarcon/anaconda3/lib/python3.7/site-packages/sklearn/manifold/spectral_embedding_.py:235: UserWarning: Graph is not fully connected, spectral embedding may not work as expected.\n",
      "  warnings.warn(\"Graph is not fully connected, spectral embedding\"\n",
      "/Users/giuliomarcon/anaconda3/lib/python3.7/site-packages/sklearn/manifold/spectral_embedding_.py:235: UserWarning: Graph is not fully connected, spectral embedding may not work as expected.\n",
      "  warnings.warn(\"Graph is not fully connected, spectral embedding\"\n",
      "/Users/giuliomarcon/anaconda3/lib/python3.7/site-packages/sklearn/manifold/spectral_embedding_.py:235: UserWarning: Graph is not fully connected, spectral embedding may not work as expected.\n",
      "  warnings.warn(\"Graph is not fully connected, spectral embedding\"\n",
      "/Users/giuliomarcon/anaconda3/lib/python3.7/site-packages/sklearn/manifold/spectral_embedding_.py:235: UserWarning: Graph is not fully connected, spectral embedding may not work as expected.\n",
      "  warnings.warn(\"Graph is not fully connected, spectral embedding\"\n",
      "/Users/giuliomarcon/anaconda3/lib/python3.7/site-packages/sklearn/manifold/spectral_embedding_.py:235: UserWarning: Graph is not fully connected, spectral embedding may not work as expected.\n",
      "  warnings.warn(\"Graph is not fully connected, spectral embedding\"\n",
      "/Users/giuliomarcon/anaconda3/lib/python3.7/site-packages/sklearn/manifold/spectral_embedding_.py:235: UserWarning: Graph is not fully connected, spectral embedding may not work as expected.\n",
      "  warnings.warn(\"Graph is not fully connected, spectral embedding\"\n",
      "/Users/giuliomarcon/anaconda3/lib/python3.7/site-packages/sklearn/manifold/spectral_embedding_.py:235: UserWarning: Graph is not fully connected, spectral embedding may not work as expected.\n",
      "  warnings.warn(\"Graph is not fully connected, spectral embedding\"\n",
      "/Users/giuliomarcon/anaconda3/lib/python3.7/site-packages/sklearn/manifold/spectral_embedding_.py:235: UserWarning: Graph is not fully connected, spectral embedding may not work as expected.\n",
      "  warnings.warn(\"Graph is not fully connected, spectral embedding\"\n",
      "/Users/giuliomarcon/anaconda3/lib/python3.7/site-packages/sklearn/manifold/spectral_embedding_.py:235: UserWarning: Graph is not fully connected, spectral embedding may not work as expected.\n",
      "  warnings.warn(\"Graph is not fully connected, spectral embedding\"\n",
      "/Users/giuliomarcon/anaconda3/lib/python3.7/site-packages/sklearn/manifold/spectral_embedding_.py:235: UserWarning: Graph is not fully connected, spectral embedding may not work as expected.\n",
      "  warnings.warn(\"Graph is not fully connected, spectral embedding\"\n",
      "/Users/giuliomarcon/anaconda3/lib/python3.7/site-packages/sklearn/manifold/spectral_embedding_.py:235: UserWarning: Graph is not fully connected, spectral embedding may not work as expected.\n",
      "  warnings.warn(\"Graph is not fully connected, spectral embedding\"\n"
     ]
    },
    {
     "ename": "LinAlgError",
     "evalue": "7-th leading minor of the array is not positive definite",
     "output_type": "error",
     "traceback": [
      "\u001b[0;31m---------------------------------------------------------------------------\u001b[0m",
      "\u001b[0;31mLinAlgError\u001b[0m                               Traceback (most recent call last)",
      "\u001b[0;32m<ipython-input-75-2db29840f00b>\u001b[0m in \u001b[0;36m<module>\u001b[0;34m\u001b[0m\n\u001b[1;32m      1\u001b[0m \u001b[0mspectral_rbf_0\u001b[0m \u001b[0;34m=\u001b[0m \u001b[0mperform_spectral_rbf\u001b[0m\u001b[0;34m(\u001b[0m\u001b[0mgene\u001b[0m\u001b[0;34m)\u001b[0m\u001b[0;34m\u001b[0m\u001b[0;34m\u001b[0m\u001b[0m\n\u001b[1;32m      2\u001b[0m \u001b[0mspectral_rbf_ss\u001b[0m \u001b[0;34m=\u001b[0m \u001b[0mperform_spectral_rbf\u001b[0m\u001b[0;34m(\u001b[0m\u001b[0mgene_std\u001b[0m\u001b[0;34m)\u001b[0m\u001b[0;34m\u001b[0m\u001b[0;34m\u001b[0m\u001b[0m\n\u001b[0;32m----> 3\u001b[0;31m \u001b[0mspectral_rbf_mas\u001b[0m \u001b[0;34m=\u001b[0m \u001b[0mperform_spectral_rbf\u001b[0m\u001b[0;34m(\u001b[0m\u001b[0mgene_mas\u001b[0m\u001b[0;34m)\u001b[0m\u001b[0;34m\u001b[0m\u001b[0;34m\u001b[0m\u001b[0m\n\u001b[0m",
      "\u001b[0;32m<ipython-input-70-4d04c8464735>\u001b[0m in \u001b[0;36mperform_spectral_rbf\u001b[0;34m(data)\u001b[0m\n\u001b[1;32m      2\u001b[0m     \u001b[0mspectral_list\u001b[0m \u001b[0;34m=\u001b[0m \u001b[0;34m[\u001b[0m\u001b[0;34m]\u001b[0m\u001b[0;34m\u001b[0m\u001b[0;34m\u001b[0m\u001b[0m\n\u001b[1;32m      3\u001b[0m     \u001b[0;32mfor\u001b[0m \u001b[0mnc\u001b[0m \u001b[0;32min\u001b[0m \u001b[0mrange\u001b[0m\u001b[0;34m(\u001b[0m\u001b[0;36m2\u001b[0m\u001b[0;34m,\u001b[0m\u001b[0;36m8\u001b[0m\u001b[0;34m)\u001b[0m\u001b[0;34m:\u001b[0m\u001b[0;34m\u001b[0m\u001b[0;34m\u001b[0m\u001b[0m\n\u001b[0;32m----> 4\u001b[0;31m         \u001b[0mspectral\u001b[0m \u001b[0;34m=\u001b[0m \u001b[0mSpectralClustering\u001b[0m\u001b[0;34m(\u001b[0m\u001b[0mn_clusters\u001b[0m\u001b[0;34m=\u001b[0m\u001b[0mnc\u001b[0m\u001b[0;34m,\u001b[0m \u001b[0maffinity\u001b[0m\u001b[0;34m=\u001b[0m\u001b[0;34m'rbf'\u001b[0m\u001b[0;34m,\u001b[0m\u001b[0mn_jobs\u001b[0m\u001b[0;34m=\u001b[0m\u001b[0;36m3\u001b[0m\u001b[0;34m)\u001b[0m\u001b[0;34m.\u001b[0m\u001b[0mfit\u001b[0m\u001b[0;34m(\u001b[0m\u001b[0mdata\u001b[0m\u001b[0;34m)\u001b[0m\u001b[0;34m\u001b[0m\u001b[0;34m\u001b[0m\u001b[0m\n\u001b[0m\u001b[1;32m      5\u001b[0m         \u001b[0mlabels\u001b[0m \u001b[0;34m=\u001b[0m \u001b[0mspectral\u001b[0m\u001b[0;34m.\u001b[0m\u001b[0mlabels_\u001b[0m\u001b[0;34m\u001b[0m\u001b[0;34m\u001b[0m\u001b[0m\n\u001b[1;32m      6\u001b[0m         \u001b[0mspectral_list\u001b[0m\u001b[0;34m.\u001b[0m\u001b[0mappend\u001b[0m\u001b[0;34m(\u001b[0m\u001b[0;34m(\u001b[0m\u001b[0mnc\u001b[0m\u001b[0;34m,\u001b[0m\u001b[0mget_nmi\u001b[0m\u001b[0;34m(\u001b[0m\u001b[0mtrue_labels\u001b[0m\u001b[0;34m,\u001b[0m\u001b[0mlabels\u001b[0m\u001b[0;34m)\u001b[0m\u001b[0;34m,\u001b[0m\u001b[0mlabels\u001b[0m\u001b[0;34m)\u001b[0m\u001b[0;34m)\u001b[0m\u001b[0;34m\u001b[0m\u001b[0;34m\u001b[0m\u001b[0m\n",
      "\u001b[0;32m~/anaconda3/lib/python3.7/site-packages/sklearn/cluster/spectral.py\u001b[0m in \u001b[0;36mfit\u001b[0;34m(self, X, y)\u001b[0m\n\u001b[1;32m    491\u001b[0m                                            \u001b[0mn_init\u001b[0m\u001b[0;34m=\u001b[0m\u001b[0mself\u001b[0m\u001b[0;34m.\u001b[0m\u001b[0mn_init\u001b[0m\u001b[0;34m,\u001b[0m\u001b[0;34m\u001b[0m\u001b[0;34m\u001b[0m\u001b[0m\n\u001b[1;32m    492\u001b[0m                                            \u001b[0meigen_tol\u001b[0m\u001b[0;34m=\u001b[0m\u001b[0mself\u001b[0m\u001b[0;34m.\u001b[0m\u001b[0meigen_tol\u001b[0m\u001b[0;34m,\u001b[0m\u001b[0;34m\u001b[0m\u001b[0;34m\u001b[0m\u001b[0m\n\u001b[0;32m--> 493\u001b[0;31m                                            assign_labels=self.assign_labels)\n\u001b[0m\u001b[1;32m    494\u001b[0m         \u001b[0;32mreturn\u001b[0m \u001b[0mself\u001b[0m\u001b[0;34m\u001b[0m\u001b[0;34m\u001b[0m\u001b[0m\n\u001b[1;32m    495\u001b[0m \u001b[0;34m\u001b[0m\u001b[0m\n",
      "\u001b[0;32m~/anaconda3/lib/python3.7/site-packages/sklearn/cluster/spectral.py\u001b[0m in \u001b[0;36mspectral_clustering\u001b[0;34m(affinity, n_clusters, n_components, eigen_solver, random_state, n_init, eigen_tol, assign_labels)\u001b[0m\n\u001b[1;32m    262\u001b[0m                               \u001b[0meigen_solver\u001b[0m\u001b[0;34m=\u001b[0m\u001b[0meigen_solver\u001b[0m\u001b[0;34m,\u001b[0m\u001b[0;34m\u001b[0m\u001b[0;34m\u001b[0m\u001b[0m\n\u001b[1;32m    263\u001b[0m                               \u001b[0mrandom_state\u001b[0m\u001b[0;34m=\u001b[0m\u001b[0mrandom_state\u001b[0m\u001b[0;34m,\u001b[0m\u001b[0;34m\u001b[0m\u001b[0;34m\u001b[0m\u001b[0m\n\u001b[0;32m--> 264\u001b[0;31m                               eigen_tol=eigen_tol, drop_first=False)\n\u001b[0m\u001b[1;32m    265\u001b[0m \u001b[0;34m\u001b[0m\u001b[0m\n\u001b[1;32m    266\u001b[0m     \u001b[0;32mif\u001b[0m \u001b[0massign_labels\u001b[0m \u001b[0;34m==\u001b[0m \u001b[0;34m'kmeans'\u001b[0m\u001b[0;34m:\u001b[0m\u001b[0;34m\u001b[0m\u001b[0;34m\u001b[0m\u001b[0m\n",
      "\u001b[0;32m~/anaconda3/lib/python3.7/site-packages/sklearn/manifold/spectral_embedding_.py\u001b[0m in \u001b[0;36mspectral_embedding\u001b[0;34m(adjacency, n_components, eigen_solver, random_state, eigen_tol, norm_laplacian, drop_first)\u001b[0m\n\u001b[1;32m    322\u001b[0m             \u001b[0mX\u001b[0m\u001b[0;34m[\u001b[0m\u001b[0;34m:\u001b[0m\u001b[0;34m,\u001b[0m \u001b[0;36m0\u001b[0m\u001b[0;34m]\u001b[0m \u001b[0;34m=\u001b[0m \u001b[0mdd\u001b[0m\u001b[0;34m.\u001b[0m\u001b[0mravel\u001b[0m\u001b[0;34m(\u001b[0m\u001b[0;34m)\u001b[0m\u001b[0;34m\u001b[0m\u001b[0;34m\u001b[0m\u001b[0m\n\u001b[1;32m    323\u001b[0m             lambdas, diffusion_map = lobpcg(laplacian, X, tol=1e-15,\n\u001b[0;32m--> 324\u001b[0;31m                                             largest=False, maxiter=2000)\n\u001b[0m\u001b[1;32m    325\u001b[0m             \u001b[0membedding\u001b[0m \u001b[0;34m=\u001b[0m \u001b[0mdiffusion_map\u001b[0m\u001b[0;34m.\u001b[0m\u001b[0mT\u001b[0m\u001b[0;34m[\u001b[0m\u001b[0;34m:\u001b[0m\u001b[0mn_components\u001b[0m\u001b[0;34m]\u001b[0m\u001b[0;34m\u001b[0m\u001b[0;34m\u001b[0m\u001b[0m\n\u001b[1;32m    326\u001b[0m             \u001b[0;32mif\u001b[0m \u001b[0mnorm_laplacian\u001b[0m\u001b[0;34m:\u001b[0m\u001b[0;34m\u001b[0m\u001b[0;34m\u001b[0m\u001b[0m\n",
      "\u001b[0;32m~/anaconda3/lib/python3.7/site-packages/scipy/sparse/linalg/eigen/lobpcg/lobpcg.py\u001b[0m in \u001b[0;36mlobpcg\u001b[0;34m(A, X, B, M, Y, tol, maxiter, largest, verbosityLevel, retLambdaHistory, retResidualNormsHistory)\u001b[0m\n\u001b[1;32m    474\u001b[0m \u001b[0;34m\u001b[0m\u001b[0m\n\u001b[1;32m    475\u001b[0m             \u001b[0;32melse\u001b[0m\u001b[0;34m:\u001b[0m\u001b[0;34m\u001b[0m\u001b[0;34m\u001b[0m\u001b[0m\n\u001b[0;32m--> 476\u001b[0;31m                 \u001b[0maux\u001b[0m \u001b[0;34m=\u001b[0m \u001b[0m_b_orthonormalize\u001b[0m\u001b[0;34m(\u001b[0m\u001b[0mB\u001b[0m\u001b[0;34m,\u001b[0m \u001b[0mactiveBlockVectorP\u001b[0m\u001b[0;34m,\u001b[0m \u001b[0mretInvR\u001b[0m\u001b[0;34m=\u001b[0m\u001b[0;32mTrue\u001b[0m\u001b[0;34m)\u001b[0m\u001b[0;34m\u001b[0m\u001b[0;34m\u001b[0m\u001b[0m\n\u001b[0m\u001b[1;32m    477\u001b[0m                 \u001b[0mactiveBlockVectorP\u001b[0m\u001b[0;34m,\u001b[0m \u001b[0m_\u001b[0m\u001b[0;34m,\u001b[0m \u001b[0minvR\u001b[0m \u001b[0;34m=\u001b[0m \u001b[0maux\u001b[0m\u001b[0;34m\u001b[0m\u001b[0;34m\u001b[0m\u001b[0m\n\u001b[1;32m    478\u001b[0m                 \u001b[0mactiveBlockVectorAP\u001b[0m \u001b[0;34m=\u001b[0m \u001b[0mnp\u001b[0m\u001b[0;34m.\u001b[0m\u001b[0mdot\u001b[0m\u001b[0;34m(\u001b[0m\u001b[0mactiveBlockVectorAP\u001b[0m\u001b[0;34m,\u001b[0m \u001b[0minvR\u001b[0m\u001b[0;34m)\u001b[0m\u001b[0;34m\u001b[0m\u001b[0;34m\u001b[0m\u001b[0m\n",
      "\u001b[0;32m~/anaconda3/lib/python3.7/site-packages/scipy/sparse/linalg/eigen/lobpcg/lobpcg.py\u001b[0m in \u001b[0;36m_b_orthonormalize\u001b[0;34m(B, blockVectorV, blockVectorBV, retInvR)\u001b[0m\n\u001b[1;32m     91\u001b[0m             \u001b[0mblockVectorBV\u001b[0m \u001b[0;34m=\u001b[0m \u001b[0mblockVectorV\u001b[0m  \u001b[0;31m# Shared data!!!\u001b[0m\u001b[0;34m\u001b[0m\u001b[0;34m\u001b[0m\u001b[0m\n\u001b[1;32m     92\u001b[0m     \u001b[0mgramVBV\u001b[0m \u001b[0;34m=\u001b[0m \u001b[0mnp\u001b[0m\u001b[0;34m.\u001b[0m\u001b[0mdot\u001b[0m\u001b[0;34m(\u001b[0m\u001b[0mblockVectorV\u001b[0m\u001b[0;34m.\u001b[0m\u001b[0mT\u001b[0m\u001b[0;34m.\u001b[0m\u001b[0mconj\u001b[0m\u001b[0;34m(\u001b[0m\u001b[0;34m)\u001b[0m\u001b[0;34m,\u001b[0m \u001b[0mblockVectorBV\u001b[0m\u001b[0;34m)\u001b[0m\u001b[0;34m\u001b[0m\u001b[0;34m\u001b[0m\u001b[0m\n\u001b[0;32m---> 93\u001b[0;31m     \u001b[0mgramVBV\u001b[0m \u001b[0;34m=\u001b[0m \u001b[0mcholesky\u001b[0m\u001b[0;34m(\u001b[0m\u001b[0mgramVBV\u001b[0m\u001b[0;34m)\u001b[0m\u001b[0;34m\u001b[0m\u001b[0;34m\u001b[0m\u001b[0m\n\u001b[0m\u001b[1;32m     94\u001b[0m     \u001b[0mgramVBV\u001b[0m \u001b[0;34m=\u001b[0m \u001b[0minv\u001b[0m\u001b[0;34m(\u001b[0m\u001b[0mgramVBV\u001b[0m\u001b[0;34m,\u001b[0m \u001b[0moverwrite_a\u001b[0m\u001b[0;34m=\u001b[0m\u001b[0;32mTrue\u001b[0m\u001b[0;34m)\u001b[0m\u001b[0;34m\u001b[0m\u001b[0;34m\u001b[0m\u001b[0m\n\u001b[1;32m     95\u001b[0m     \u001b[0;31m# gramVBV is now R^{-1}.\u001b[0m\u001b[0;34m\u001b[0m\u001b[0;34m\u001b[0m\u001b[0;34m\u001b[0m\u001b[0m\n",
      "\u001b[0;32m~/anaconda3/lib/python3.7/site-packages/scipy/linalg/decomp_cholesky.py\u001b[0m in \u001b[0;36mcholesky\u001b[0;34m(a, lower, overwrite_a, check_finite)\u001b[0m\n\u001b[1;32m     89\u001b[0m     \"\"\"\n\u001b[1;32m     90\u001b[0m     c, lower = _cholesky(a, lower=lower, overwrite_a=overwrite_a, clean=True,\n\u001b[0;32m---> 91\u001b[0;31m                          check_finite=check_finite)\n\u001b[0m\u001b[1;32m     92\u001b[0m     \u001b[0;32mreturn\u001b[0m \u001b[0mc\u001b[0m\u001b[0;34m\u001b[0m\u001b[0;34m\u001b[0m\u001b[0m\n\u001b[1;32m     93\u001b[0m \u001b[0;34m\u001b[0m\u001b[0m\n",
      "\u001b[0;32m~/anaconda3/lib/python3.7/site-packages/scipy/linalg/decomp_cholesky.py\u001b[0m in \u001b[0;36m_cholesky\u001b[0;34m(a, lower, overwrite_a, clean, check_finite)\u001b[0m\n\u001b[1;32m     38\u001b[0m     \u001b[0;32mif\u001b[0m \u001b[0minfo\u001b[0m \u001b[0;34m>\u001b[0m \u001b[0;36m0\u001b[0m\u001b[0;34m:\u001b[0m\u001b[0;34m\u001b[0m\u001b[0;34m\u001b[0m\u001b[0m\n\u001b[1;32m     39\u001b[0m         raise LinAlgError(\"%d-th leading minor of the array is not positive \"\n\u001b[0;32m---> 40\u001b[0;31m                           \"definite\" % info)\n\u001b[0m\u001b[1;32m     41\u001b[0m     \u001b[0;32mif\u001b[0m \u001b[0minfo\u001b[0m \u001b[0;34m<\u001b[0m \u001b[0;36m0\u001b[0m\u001b[0;34m:\u001b[0m\u001b[0;34m\u001b[0m\u001b[0;34m\u001b[0m\u001b[0m\n\u001b[1;32m     42\u001b[0m         raise ValueError('LAPACK reported an illegal value in {}-th argument'\n",
      "\u001b[0;31mLinAlgError\u001b[0m: 7-th leading minor of the array is not positive definite"
     ]
    }
   ],
   "source": [
    "spectral_rbf_0 = perform_spectral_rbf(gene)\n",
    "spectral_rbf_ss = perform_spectral_rbf(gene_std)\n",
    "spectral_rbf_mas = perform_spectral_rbf(gene_mas)"
   ]
  },
  {
   "cell_type": "code",
   "execution_count": 76,
   "metadata": {},
   "outputs": [
    {
     "name": "stdout",
     "output_type": "stream",
     "text": [
      "0\n",
      "(6, 0.012323411321853208)\n",
      "(7, 0.006617397435083334)\n",
      "(3, 0.006450600611600493)\n",
      "ss\n",
      "(7, 0.012753742792653913)\n",
      "(6, 0.009187700483614909)\n",
      "(5, 0.007924559458225728)\n",
      "mas\n"
     ]
    },
    {
     "ename": "NameError",
     "evalue": "name 'spectral_rbf_mas' is not defined",
     "output_type": "error",
     "traceback": [
      "\u001b[0;31m---------------------------------------------------------------------------\u001b[0m",
      "\u001b[0;31mNameError\u001b[0m                                 Traceback (most recent call last)",
      "\u001b[0;32m<ipython-input-76-148f4cfd3b10>\u001b[0m in \u001b[0;36m<module>\u001b[0;34m\u001b[0m\n\u001b[1;32m      9\u001b[0m \u001b[0mprint\u001b[0m\u001b[0;34m(\u001b[0m\u001b[0;34m\"mas\"\u001b[0m\u001b[0;34m)\u001b[0m\u001b[0;34m\u001b[0m\u001b[0;34m\u001b[0m\u001b[0m\n\u001b[1;32m     10\u001b[0m \u001b[0;32mfor\u001b[0m \u001b[0mi\u001b[0m \u001b[0;32min\u001b[0m \u001b[0mrange\u001b[0m\u001b[0;34m(\u001b[0m\u001b[0;36m3\u001b[0m\u001b[0;34m)\u001b[0m\u001b[0;34m:\u001b[0m\u001b[0;34m\u001b[0m\u001b[0;34m\u001b[0m\u001b[0m\n\u001b[0;32m---> 11\u001b[0;31m     \u001b[0mprint\u001b[0m\u001b[0;34m(\u001b[0m\u001b[0mspectral_rbf_mas\u001b[0m\u001b[0;34m[\u001b[0m\u001b[0mi\u001b[0m\u001b[0;34m]\u001b[0m\u001b[0;34m[\u001b[0m\u001b[0;36m0\u001b[0m\u001b[0;34m:\u001b[0m\u001b[0;36m2\u001b[0m\u001b[0;34m]\u001b[0m\u001b[0;34m)\u001b[0m\u001b[0;34m\u001b[0m\u001b[0;34m\u001b[0m\u001b[0m\n\u001b[0m",
      "\u001b[0;31mNameError\u001b[0m: name 'spectral_rbf_mas' is not defined"
     ]
    }
   ],
   "source": [
    "print(\"0\")\n",
    "for i in range(3):\n",
    "    print(spectral_rbf_0[i][0:2])\n",
    "\n",
    "print(\"ss\")\n",
    "for i in range(3):\n",
    "    print(spectral_rbf_ss[i][0:2])\n",
    "\n",
    "print(\"mas\") \n",
    "for i in range(3):\n",
    "    print(spectral_rbf_mas[i][0:2])"
   ]
  },
  {
   "cell_type": "markdown",
   "metadata": {},
   "source": [
    "Precomputed"
   ]
  },
  {
   "cell_type": "code",
   "execution_count": 77,
   "metadata": {},
   "outputs": [],
   "source": [
    "def perform_spectral_pc(data):\n",
    "    spectral_list = []\n",
    "    for nc in range(2,8):\n",
    "        spectral = SpectralClustering(n_clusters=nc, affinity='precomputed',n_jobs=3).fit(data)\n",
    "        labels = spectral.labels_\n",
    "        spectral_list.append((nc,get_nmi(true_labels,labels),labels))\n",
    "    sorted_spectral_list = sorted(spectral_list, key=lambda x:x[1], reverse=True)\n",
    "    return sorted_spectral_list "
   ]
  },
  {
   "cell_type": "code",
   "execution_count": 79,
   "metadata": {},
   "outputs": [],
   "source": [
    "spectral_pc_cs = perform_spectral_pc(gene_cs)\n",
    "#spectral_pc_cs_ss = perform_spectral_pc(ms_cs_ss)\n",
    "spectral_pc_cs_mas = perform_spectral_pc(gene_cs_mas)\n",
    "spectral_pc_ed = perform_spectral_pc(gene_ed)\n",
    "spectral_pc_ed_ss = perform_spectral_pc(gene_ed_std)\n",
    "spectral_pc_ed_mas = perform_spectral_pc(gene_ed_mas)"
   ]
  },
  {
   "cell_type": "code",
   "execution_count": 80,
   "metadata": {},
   "outputs": [
    {
     "name": "stdout",
     "output_type": "stream",
     "text": [
      "cs 0\n",
      "(6, 0.7734325267341435)\n",
      "(6, 0.7734325267341435)\n",
      "(6, 0.7734325267341435)\n",
      "cs mas\n",
      "(6, 0.755490009528759)\n",
      "(6, 0.755490009528759)\n",
      "(6, 0.755490009528759)\n",
      "ed 0\n",
      "(5, 0.8070482099334353)\n",
      "(5, 0.8070482099334353)\n",
      "(5, 0.8070482099334353)\n",
      "ed ss\n",
      "(7, 0.6625458879335341)\n",
      "(7, 0.6625458879335341)\n",
      "(7, 0.6625458879335341)\n",
      "ed mas\n",
      "(5, 0.7576765658439144)\n",
      "(5, 0.7576765658439144)\n",
      "(5, 0.7576765658439144)\n"
     ]
    }
   ],
   "source": [
    "print(\"cs 0\")\n",
    "for i in range(3):\n",
    "    print(spectral_pc_cs[0][0:2])\n",
    "#print(spectral_pc_cs_ss[0][0:2])\n",
    "print(\"cs mas\")\n",
    "for i in range(3):\n",
    "    print(spectral_pc_cs_mas[0][0:2])\n",
    "print(\"ed 0\")\n",
    "for i in range(3):\n",
    "    print(spectral_pc_ed[0][0:2])\n",
    "print(\"ed ss\")\n",
    "for i in range(3):\n",
    "    print(spectral_pc_ed_ss[0][0:2])\n",
    "print(\"ed mas\")\n",
    "for i in range(3):\n",
    "    print(spectral_pc_ed_mas[0][0:2])"
   ]
  },
  {
   "cell_type": "markdown",
   "metadata": {},
   "source": [
    "## Gene dataset"
   ]
  },
  {
   "cell_type": "code",
   "execution_count": null,
   "metadata": {},
   "outputs": [],
   "source": []
  }
 ],
 "metadata": {
  "kernelspec": {
   "display_name": "Python 3",
   "language": "python",
   "name": "python3"
  },
  "language_info": {
   "codemirror_mode": {
    "name": "ipython",
    "version": 3
   },
   "file_extension": ".py",
   "mimetype": "text/x-python",
   "name": "python",
   "nbconvert_exporter": "python",
   "pygments_lexer": "ipython3",
   "version": "3.8.5"
  }
 },
 "nbformat": 4,
 "nbformat_minor": 4
}
